{
 "cells": [
  {
   "cell_type": "code",
   "execution_count": 1,
   "metadata": {},
   "outputs": [],
   "source": [
    "#Importing libraries\n",
    "import pickle\n",
    "import nltk\n",
    "from gensim.models import Word2Vec\n",
    "from gensim.test.utils import common_texts\n",
    "import sklearn.manifold\n",
    "import numpy as np\n",
    "import pandas as pd\n",
    "import re\n",
    "import multiprocessing\n",
    "from nltk.corpus import stopwords\n",
    "from nltk.stem import PorterStemmer\n",
    "from gensim.models.doc2vec import Doc2Vec, TaggedDocument\n",
    "stop_words = set(stopwords.words('english'))\n",
    "ps = PorterStemmer()\n",
    "from sklearn.metrics.pairwise import cosine_similarity\n",
    "from collections import Counter\n",
    "import matplotlib.pyplot as plt \n",
    "import seaborn as sns\n",
    "import time\n",
    "import collections\n",
    "from scipy import stats \n",
    "import numpy as np "
   ]
  },
  {
   "cell_type": "code",
   "execution_count": 5,
   "metadata": {},
   "outputs": [],
   "source": [
    "file = open(\"wiki.txt\", \"r\",errors='ignore').read() "
   ]
  },
  {
   "cell_type": "code",
   "execution_count": 6,
   "metadata": {},
   "outputs": [
    {
     "name": "stdout",
     "output_type": "stream",
     "text": [
      "Corpus is now 94298560 characters long\n"
     ]
    }
   ],
   "source": [
    "print(\"Corpus is now {0} characters long\".format(len(file)))"
   ]
  },
  {
   "cell_type": "code",
   "execution_count": 7,
   "metadata": {},
   "outputs": [],
   "source": [
    "#Split the corpus into sentences\n",
    "tokenizer = nltk.data.load('tokenizers/punkt/english.pickle')\n",
    "raw_sentences = tokenizer.tokenize(file)"
   ]
  },
  {
   "cell_type": "code",
   "execution_count": 8,
   "metadata": {},
   "outputs": [],
   "source": [
    "#convert into a list of words\n",
    "#remove unnecessary, split into words, no hyphens\n",
    "#list of words\n",
    "def sentence_to_wordlist(raw):\n",
    "    clean=re.sub('[\\n]',' ',raw.lower())\n",
    "    clean = re.sub(\"[^a-zA-Z]\",\" \", raw.lower())\n",
    "    words = clean.split()\n",
    "    #words = [ps.stem(w) for w in words if not w in stop_words]  \n",
    "    words = [w for w in words if not w in stop_words] \n",
    "    return words"
   ]
  },
  {
   "cell_type": "code",
   "execution_count": 9,
   "metadata": {},
   "outputs": [],
   "source": [
    "#sentence where each word is tokenized\n",
    "sentences = []\n",
    "for raw_sentence in raw_sentences:\n",
    "    if len(raw_sentence) > 0:\n",
    "        sentences.append(sentence_to_wordlist(raw_sentence))\n",
    "#print(sentences[1])"
   ]
  },
  {
   "cell_type": "code",
   "execution_count": 10,
   "metadata": {},
   "outputs": [
    {
     "name": "stdout",
     "output_type": "stream",
     "text": [
      "The corpus contains 7,976,868 tokens\n"
     ]
    }
   ],
   "source": [
    "token_count = sum([len(sentence) for sentence in sentences])\n",
    "print(\"The corpus contains {0:,} tokens\".format(token_count))"
   ]
  },
  {
   "cell_type": "code",
   "execution_count": 11,
   "metadata": {},
   "outputs": [],
   "source": [
    "def getWordList(sentences,minCount):\n",
    "    wordList = []\n",
    "    count = Counter()\n",
    "    for sentence in sentences:\n",
    "        for word in sentence:\n",
    "            count[word] += 1\n",
    "    for word,c in count.items():\n",
    "        if c >= minCount:\n",
    "            wordList.append(word)\n",
    "    return wordList"
   ]
  },
  {
   "cell_type": "code",
   "execution_count": 12,
   "metadata": {},
   "outputs": [],
   "source": [
    "WordList=getWordList(sentences,minCount=5) # for min frequency of a word which should be 5\n",
    "#print(WordList)"
   ]
  },
  {
   "cell_type": "code",
   "execution_count": 13,
   "metadata": {},
   "outputs": [
    {
     "data": {
      "text/plain": [
       "23079"
      ]
     },
     "execution_count": 13,
     "metadata": {},
     "output_type": "execute_result"
    }
   ],
   "source": [
    "#Vocab Size\n",
    "len(WordList)"
   ]
  },
  {
   "cell_type": "code",
   "execution_count": 14,
   "metadata": {},
   "outputs": [
    {
     "data": {
      "text/plain": [
       "62960183"
      ]
     },
     "execution_count": 14,
     "metadata": {},
     "output_type": "execute_result"
    }
   ],
   "source": [
    "\n",
    "import itertools\n",
    "ab=list(itertools.chain.from_iterable(sentences))\n",
    "new_str =' '.join(ab)  \n",
    "open('wiki_clean.txt', 'w').write(new_str) # writing clean text to new file"
   ]
  },
  {
   "cell_type": "code",
   "execution_count": 15,
   "metadata": {},
   "outputs": [],
   "source": [
    "model1 = Word2Vec(sentences,size=300,window=5,min_count=5,seed=42,workers=multiprocessing.cpu_count(),batch_words=1) "
   ]
  },
  {
   "cell_type": "code",
   "execution_count": 17,
   "metadata": {},
   "outputs": [],
   "source": [
    "model2 = Word2Vec(sentences,size=300,window=5,min_count=5,seed=102,workers=multiprocessing.cpu_count(),batch_words=1) # the two embedding spaces"
   ]
  },
  {
   "cell_type": "code",
   "execution_count": 18,
   "metadata": {},
   "outputs": [],
   "source": [
    "#word_frequency\n",
    "w2c = dict()\n",
    "for item in model1.wv.vocab:\n",
    "    w2c[item]=model1.wv.vocab[item].count\n",
    "w2cSorted=dict(sorted(w2c.items(), key=lambda x: x[1],reverse=True))\n",
    "# reverse output word and their frequency"
   ]
  },
  {
   "cell_type": "code",
   "execution_count": 19,
   "metadata": {},
   "outputs": [],
   "source": [
    "def Stability(word,similar1,similar2):    \n",
    "    overlap=0\n",
    "    for i in range(len(similar1)):\n",
    "        for j in range(len(similar2)):\n",
    "            if similar1[i][0] == similar2[j][0]:\n",
    "                overlap=overlap+1\n",
    "    return overlap"
   ]
  },
  {
   "cell_type": "code",
   "execution_count": 20,
   "metadata": {},
   "outputs": [
    {
     "name": "stdout",
     "output_type": "stream",
     "text": [
      "163.65625 seconds\n"
     ]
    }
   ],
   "source": [
    "start_time = time.process_time()\n",
    "with open('swiki.csv', 'a',errors='replace') as the_file:\n",
    "    the_file.write('Word,Stability(%),Stability(%) IU,Frequency\\n')\n",
    "    for word in WordList:\n",
    "        similar1=model1.wv.most_similar(word, topn=10)\n",
    "        similar2=model2.wv.most_similar(word, topn=10)\n",
    "        stab=Stability(word,similar1,similar2)\n",
    "        the_file.write(word+','+str(stab*10)+','+str(stab*100/(20-stab))+','+str(w2cSorted[word])+'\\n')\n",
    "print (time.process_time() - start_time, \"seconds\")"
   ]
  },
  {
   "cell_type": "code",
   "execution_count": 22,
   "metadata": {},
   "outputs": [],
   "source": [
    "df=pd.read_csv('swiki.csv')"
   ]
  },
  {
   "cell_type": "code",
   "execution_count": 44,
   "metadata": {},
   "outputs": [
    {
     "name": "stdout",
     "output_type": "stream",
     "text": [
      "738446.6209487107\n"
     ]
    }
   ],
   "source": [
    "df['Stability(%) IU'] = pd.to_numeric(df['Stability(%) IU'])\n",
    "s = df['Stability(%) IU'].sum()\n",
    "print(s)"
   ]
  },
  {
   "cell_type": "code",
   "execution_count": 23,
   "metadata": {},
   "outputs": [],
   "source": [
    "df['Percentile Rank'] = df.Frequency.rank(pct = True)"
   ]
  },
  {
   "cell_type": "code",
   "execution_count": 24,
   "metadata": {},
   "outputs": [],
   "source": [
    "df['Category'] = pd.cut(df['Percentile Rank'], bins = 5, labels = [\"VL\", \"L\", \"M\", \"H\", \"VH\"] )"
   ]
  },
  {
   "cell_type": "code",
   "execution_count": 25,
   "metadata": {
    "collapsed": true
   },
   "outputs": [
    {
     "data": {
      "text/plain": [
       "VL    5555\n",
       "H     4475\n",
       "VH    4465\n",
       "L     4295\n",
       "M     4289\n",
       "Name: Category, dtype: int64"
      ]
     },
     "execution_count": 25,
     "metadata": {},
     "output_type": "execute_result"
    }
   ],
   "source": [
    "df['Category'].value_counts()"
   ]
  },
  {
   "cell_type": "code",
   "execution_count": 26,
   "metadata": {},
   "outputs": [
    {
     "data": {
      "text/html": [
       "<div>\n",
       "<style scoped>\n",
       "    .dataframe tbody tr th:only-of-type {\n",
       "        vertical-align: middle;\n",
       "    }\n",
       "\n",
       "    .dataframe tbody tr th {\n",
       "        vertical-align: top;\n",
       "    }\n",
       "\n",
       "    .dataframe thead th {\n",
       "        text-align: right;\n",
       "    }\n",
       "</style>\n",
       "<table border=\"1\" class=\"dataframe\">\n",
       "  <thead>\n",
       "    <tr style=\"text-align: right;\">\n",
       "      <th></th>\n",
       "      <th>Word</th>\n",
       "      <th>Stability(%)</th>\n",
       "      <th>Stability(%) IU</th>\n",
       "      <th>Frequency</th>\n",
       "      <th>Percentile Rank</th>\n",
       "      <th>Category</th>\n",
       "    </tr>\n",
       "  </thead>\n",
       "  <tbody>\n",
       "    <tr>\n",
       "      <th>0</th>\n",
       "      <td>action</td>\n",
       "      <td>100</td>\n",
       "      <td>100.000000</td>\n",
       "      <td>9901</td>\n",
       "      <td>0.995364</td>\n",
       "      <td>VH</td>\n",
       "    </tr>\n",
       "    <tr>\n",
       "      <th>1</th>\n",
       "      <td>taken</td>\n",
       "      <td>80</td>\n",
       "      <td>66.666667</td>\n",
       "      <td>8199</td>\n",
       "      <td>0.993587</td>\n",
       "      <td>VH</td>\n",
       "    </tr>\n",
       "    <tr>\n",
       "      <th>2</th>\n",
       "      <td>parliament</td>\n",
       "      <td>80</td>\n",
       "      <td>66.666667</td>\n",
       "      <td>37171</td>\n",
       "      <td>0.999523</td>\n",
       "      <td>VH</td>\n",
       "    </tr>\n",
       "    <tr>\n",
       "      <th>3</th>\n",
       "      <td>resolutions</td>\n",
       "      <td>80</td>\n",
       "      <td>66.666667</td>\n",
       "      <td>1076</td>\n",
       "      <td>0.937692</td>\n",
       "      <td>VH</td>\n",
       "    </tr>\n",
       "    <tr>\n",
       "      <th>4</th>\n",
       "      <td>see</td>\n",
       "      <td>80</td>\n",
       "      <td>66.666667</td>\n",
       "      <td>11064</td>\n",
       "      <td>0.996144</td>\n",
       "      <td>VH</td>\n",
       "    </tr>\n",
       "    <tr>\n",
       "      <th>...</th>\n",
       "      <td>...</td>\n",
       "      <td>...</td>\n",
       "      <td>...</td>\n",
       "      <td>...</td>\n",
       "      <td>...</td>\n",
       "      <td>...</td>\n",
       "    </tr>\n",
       "    <tr>\n",
       "      <th>23074</th>\n",
       "      <td>disselkoen</td>\n",
       "      <td>20</td>\n",
       "      <td>11.111111</td>\n",
       "      <td>8</td>\n",
       "      <td>0.189480</td>\n",
       "      <td>VL</td>\n",
       "    </tr>\n",
       "    <tr>\n",
       "      <th>23075</th>\n",
       "      <td>mellau</td>\n",
       "      <td>30</td>\n",
       "      <td>17.647059</td>\n",
       "      <td>5</td>\n",
       "      <td>0.034989</td>\n",
       "      <td>VL</td>\n",
       "    </tr>\n",
       "    <tr>\n",
       "      <th>23076</th>\n",
       "      <td>nashiri</td>\n",
       "      <td>80</td>\n",
       "      <td>66.666667</td>\n",
       "      <td>18</td>\n",
       "      <td>0.406647</td>\n",
       "      <td>L</td>\n",
       "    </tr>\n",
       "    <tr>\n",
       "      <th>23077</th>\n",
       "      <td>eurosecurities</td>\n",
       "      <td>20</td>\n",
       "      <td>11.111111</td>\n",
       "      <td>6</td>\n",
       "      <td>0.098120</td>\n",
       "      <td>VL</td>\n",
       "    </tr>\n",
       "    <tr>\n",
       "      <th>23078</th>\n",
       "      <td>fining</td>\n",
       "      <td>30</td>\n",
       "      <td>17.647059</td>\n",
       "      <td>6</td>\n",
       "      <td>0.098120</td>\n",
       "      <td>VL</td>\n",
       "    </tr>\n",
       "  </tbody>\n",
       "</table>\n",
       "<p>23079 rows × 6 columns</p>\n",
       "</div>"
      ],
      "text/plain": [
       "                 Word  Stability(%)  Stability(%) IU  Frequency  \\\n",
       "0              action           100       100.000000       9901   \n",
       "1               taken            80        66.666667       8199   \n",
       "2          parliament            80        66.666667      37171   \n",
       "3         resolutions            80        66.666667       1076   \n",
       "4                 see            80        66.666667      11064   \n",
       "...               ...           ...              ...        ...   \n",
       "23074      disselkoen            20        11.111111          8   \n",
       "23075          mellau            30        17.647059          5   \n",
       "23076         nashiri            80        66.666667         18   \n",
       "23077  eurosecurities            20        11.111111          6   \n",
       "23078          fining            30        17.647059          6   \n",
       "\n",
       "       Percentile Rank Category  \n",
       "0             0.995364       VH  \n",
       "1             0.993587       VH  \n",
       "2             0.999523       VH  \n",
       "3             0.937692       VH  \n",
       "4             0.996144       VH  \n",
       "...                ...      ...  \n",
       "23074         0.189480       VL  \n",
       "23075         0.034989       VL  \n",
       "23076         0.406647        L  \n",
       "23077         0.098120       VL  \n",
       "23078         0.098120       VL  \n",
       "\n",
       "[23079 rows x 6 columns]"
      ]
     },
     "execution_count": 26,
     "metadata": {},
     "output_type": "execute_result"
    }
   ],
   "source": [
    "df.head(100000)"
   ]
  },
  {
   "cell_type": "code",
   "execution_count": 27,
   "metadata": {},
   "outputs": [],
   "source": [
    "grouped = df.groupby('Category')"
   ]
  },
  {
   "cell_type": "code",
   "execution_count": 28,
   "metadata": {},
   "outputs": [
    {
     "data": {
      "text/html": [
       "<div>\n",
       "<style scoped>\n",
       "    .dataframe tbody tr th:only-of-type {\n",
       "        vertical-align: middle;\n",
       "    }\n",
       "\n",
       "    .dataframe tbody tr th {\n",
       "        vertical-align: top;\n",
       "    }\n",
       "\n",
       "    .dataframe thead th {\n",
       "        text-align: right;\n",
       "    }\n",
       "</style>\n",
       "<table border=\"1\" class=\"dataframe\">\n",
       "  <thead>\n",
       "    <tr style=\"text-align: right;\">\n",
       "      <th></th>\n",
       "      <th>Stability(%)</th>\n",
       "      <th>Stability(%) IU</th>\n",
       "      <th>Frequency</th>\n",
       "      <th>Percentile Rank</th>\n",
       "    </tr>\n",
       "    <tr>\n",
       "      <th>Category</th>\n",
       "      <th></th>\n",
       "      <th></th>\n",
       "      <th></th>\n",
       "      <th></th>\n",
       "    </tr>\n",
       "  </thead>\n",
       "  <tbody>\n",
       "    <tr>\n",
       "      <th>VL</th>\n",
       "      <td>110190</td>\n",
       "      <td>67544.089425</td>\n",
       "      <td>36722</td>\n",
       "      <td>668.650721</td>\n",
       "    </tr>\n",
       "    <tr>\n",
       "      <th>L</th>\n",
       "      <td>110050</td>\n",
       "      <td>69590.099263</td>\n",
       "      <td>59423</td>\n",
       "      <td>1433.527666</td>\n",
       "    </tr>\n",
       "    <tr>\n",
       "      <th>M</th>\n",
       "      <td>168030</td>\n",
       "      <td>114952.713841</td>\n",
       "      <td>132533</td>\n",
       "      <td>2229.150093</td>\n",
       "    </tr>\n",
       "    <tr>\n",
       "      <th>H</th>\n",
       "      <td>263850</td>\n",
       "      <td>198917.848491</td>\n",
       "      <td>444168</td>\n",
       "      <td>3175.487456</td>\n",
       "    </tr>\n",
       "    <tr>\n",
       "      <th>VH</th>\n",
       "      <td>343000</td>\n",
       "      <td>287441.869929</td>\n",
       "      <td>7261183</td>\n",
       "      <td>4033.184063</td>\n",
       "    </tr>\n",
       "  </tbody>\n",
       "</table>\n",
       "</div>"
      ],
      "text/plain": [
       "          Stability(%)  Stability(%) IU  Frequency  Percentile Rank\n",
       "Category                                                           \n",
       "VL              110190     67544.089425      36722       668.650721\n",
       "L               110050     69590.099263      59423      1433.527666\n",
       "M               168030    114952.713841     132533      2229.150093\n",
       "H               263850    198917.848491     444168      3175.487456\n",
       "VH              343000    287441.869929    7261183      4033.184063"
      ]
     },
     "execution_count": 28,
     "metadata": {},
     "output_type": "execute_result"
    }
   ],
   "source": [
    "grouped.sum()"
   ]
  },
  {
   "cell_type": "code",
   "execution_count": 29,
   "metadata": {},
   "outputs": [
    {
     "data": {
      "image/png": "[encoded data removed]",
      "text/plain": [
       "<Figure size 576x576 with 1 Axes>"
      ]
     },
     "metadata": {
      "needs_background": "light"
     },
     "output_type": "display_data"
    }
   ],
   "source": [
    "import seaborn as sns\n",
    "import matplotlib.pyplot as plt\n",
    "#sns.set(style=\"whitegrid\")\n",
    "\n",
    "f, ax = plt.subplots(figsize=(8, 8))\n",
    "#sns.despine(f, left=True, bottom=True)\n",
    "#category_ranking = [\"VL\", \"L\", \"M\", \"H\", \"VH\"]\n",
    "\n",
    "ax=sns.boxplot(x=\"Category\", y=\"Stability(%) IU\", \n",
    "                 orient='v', \n",
    "                data=df, palette=\"Set3\")"
   ]
  },
  {
   "cell_type": "code",
   "execution_count": 30,
   "metadata": {},
   "outputs": [
    {
     "data": {
      "image/png": "[encoded data removed]",
      "text/plain": [
       "<Figure size 432x288 with 1 Axes>"
      ]
     },
     "metadata": {},
     "output_type": "display_data"
    }
   ],
   "source": [
    "import seaborn as sns\n",
    "\n",
    "sns.set_style(\"whitegrid\")\n",
    "\n",
    "\n",
    "box_plot = sns.boxplot(x=\"Category\",y=\"Stability(%) IU\",data=df)\n",
    "\n",
    "medians = df.groupby(['Category'])['Stability(%) IU'].median()\n",
    "vertical_offset = df['Stability(%) IU'].median() * 0.05 # offset from median for display\n",
    "\n",
    "for xtick in box_plot.get_xticks():\n",
    "        box_plot.text(xtick,medians[xtick] + vertical_offset,medians[xtick], \n",
    "        horizontalalignment='center',size='x-small',color='g',weight='semibold')"
   ]
  },
  {
   "cell_type": "code",
   "execution_count": 38,
   "metadata": {},
   "outputs": [
    {
     "data": {
      "text/plain": [
       "Category      \n",
       "VL        0.25     5.263158\n",
       "          0.50    11.111111\n",
       "          0.75    17.647059\n",
       "L         0.25     5.263158\n",
       "          0.50    11.111111\n",
       "          0.75    25.000000\n",
       "M         0.25    11.111111\n",
       "          0.50    25.000000\n",
       "          0.75    33.333333\n",
       "H         0.25    33.333333\n",
       "          0.50    42.857143\n",
       "          0.75    53.846154\n",
       "VH        0.25    53.846154\n",
       "          0.50    66.666667\n",
       "          0.75    81.818182\n",
       "Name: Stability(%) IU, dtype: float64"
      ]
     },
     "execution_count": 38,
     "metadata": {},
     "output_type": "execute_result"
    }
   ],
   "source": [
    "df.groupby(['Category'])['Stability(%) IU'].quantile([0.25,0.5,0.75])"
   ]
  },
  {
   "cell_type": "code",
   "execution_count": 39,
   "metadata": {},
   "outputs": [
    {
     "data": {
      "text/plain": [
       "16.30413672557778"
      ]
     },
     "execution_count": 39,
     "metadata": {},
     "output_type": "execute_result"
    }
   ],
   "source": [
    "sum_corr1=len(op1[-1]['correct'])\n",
    "sum_incorr1=len(op1[-1]['incorrect'])\n",
    "total1=sum_corr1+sum_incorr1\n",
    "percent=lambda a: a/total1*100\n",
    "percent(sum_corr1)"
   ]
  },
  {
   "cell_type": "code",
   "execution_count": 40,
   "metadata": {},
   "outputs": [
    {
     "data": {
      "text/plain": [
       "17.15867158671587"
      ]
     },
     "execution_count": 40,
     "metadata": {},
     "output_type": "execute_result"
    }
   ],
   "source": [
    "sum_corr2=len(op2[-1]['correct'])\n",
    "sum_incorr2=len(op2[-1]['incorrect'])\n",
    "total2=sum_corr2+sum_incorr2\n",
    "percent=lambda a: a/total2*100\n",
    "percent(sum_corr2)"
   ]
  },
  {
   "cell_type": "code",
   "execution_count": 41,
   "metadata": {},
   "outputs": [],
   "source": [
    "with open('accuracy_wiki.csv', 'a',errors='replace') as the_file:\n",
    "    the_file.write(str(percent(sum_corr1))+','+str(percent(sum_corr2))+'\\n')"
   ]
  }
 ],
 "metadata": {
  "kernelspec": {
   "display_name": "Python 3",
   "language": "python",
   "name": "python3"
  },
  "language_info": {
   "codemirror_mode": {
    "name": "ipython",
    "version": 3
   },
   "file_extension": ".py",
   "mimetype": "text/x-python",
   "name": "python",
   "nbconvert_exporter": "python",
   "pygments_lexer": "ipython3",
   "version": "3.8.3"
  }
 },
 "nbformat": 4,
 "nbformat_minor": 2
}
